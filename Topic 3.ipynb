{
  "cells": [
    {
      "cell_type": "markdown",
      "metadata": {
        "id": "f6LjKU50-tD8"
      },
      "source": [
        "##Topic 3 - Python Structure & Data Type Assignment\n"
      ]
    },
    {
      "cell_type": "markdown",
      "metadata": {
        "id": "MPuR878HZEbx"
      },
      "source": [
        "# Data Type Declaration"
      ]
    },
    {
      "cell_type": "markdown",
      "metadata": {
        "id": "GyS5I54D-3K9"
      },
      "source": [
        "1. > Create an empty variable (Points : 5)"
      ]
    },
    {
      "cell_type": "code",
      "execution_count": 7,
      "metadata": {
        "id": "jehesBY-_aKL"
      },
      "outputs": [],
      "source": [
        "#Code goes here\n",
        "mahasiswa=\"\""
      ]
    },
    {
      "cell_type": "markdown",
      "metadata": {
        "id": "6zCz3qZ8_bu2"
      },
      "source": [
        "2. > Create a variable containing your name (Points : 5)"
      ]
    },
    {
      "cell_type": "code",
      "execution_count": 8,
      "metadata": {
        "id": "1wT8jnI6_f-U"
      },
      "outputs": [],
      "source": [
        "#Code goes here\n",
        "nama_mahasiswa=\"athariq\""
      ]
    },
    {
      "cell_type": "markdown",
      "metadata": {
        "id": "ApatE8m__2Ud"
      },
      "source": [
        "3. > Create a list of 5 items you can find in the classroom (Points : 5)"
      ]
    },
    {
      "cell_type": "code",
      "execution_count": 9,
      "metadata": {
        "id": "-Q0Ynqx1_6hF"
      },
      "outputs": [],
      "source": [
        "#Code goes here\n",
        "ruang_kelas=[\"papan tulis\",\"spidol\",\"buku\",\"laptop\",\"pulpen\"]"
      ]
    },
    {
      "cell_type": "markdown",
      "metadata": {
        "id": "6FwMmy_9AS5N"
      },
      "source": [
        "4. > Create a dictionary containing 2 keys and value (Points : 5)"
      ]
    },
    {
      "cell_type": "code",
      "execution_count": 10,
      "metadata": {
        "id": "xLc2AlhtASOm"
      },
      "outputs": [],
      "source": [
        "#Code goes here\n",
        "universitas = {\n",
        "  \"Jurusan\":\"Teknik Elektro\",\n",
        "  \"Program_Studi\":[\"D4 Teknik Telekomunikasi\",\"D4 Teknik Komputer dan Jaringan\", \"D4 Teknik Multimedia dan Jaringan\"]\n",
        "}"
      ]
    },
    {
      "cell_type": "markdown",
      "metadata": {
        "id": "6AqPfAS7a1Oi"
      },
      "source": [
        "# Basic Data Operation"
      ]
    },
    {
      "cell_type": "markdown",
      "metadata": {
        "id": "-ZZF1cXlbqkJ"
      },
      "source": [
        "You sold 20 pieces of electronics at the price of 12000. The customer gets a total discount of 10%.\n",
        "\n",
        "Below are those variables:\n",
        "\n",
        "1.   price=12000\n",
        "2.   quantity_sold=20\n",
        "3.   discount=10%\n",
        "\n",
        "\n",
        "Using Python code, write the code the find the total money that the customer to pay. (Points : 15)"
      ]
    },
    {
      "cell_type": "code",
      "execution_count": 11,
      "metadata": {
        "colab": {
          "base_uri": "https://localhost:8080/"
        },
        "id": "90T0A2HvbcCK",
        "outputId": "88cea0f5-4153-4418-d417-ddb0673a189a"
      },
      "outputs": [
        {
          "name": "stdout",
          "output_type": "stream",
          "text": [
            "216000.0\n"
          ]
        }
      ],
      "source": [
        "#Code goes here\n",
        "\n",
        "# Pelanggan membeli 20 buah barang elecktronik dan mendapat diskon 10%\n",
        "\n",
        "price=12000\n",
        "quantity_sold=20\n",
        "discount=0.1\n",
        "\n",
        "totalprice=price*quantity_sold\n",
        "totaldiscount=totalprice*discount\n",
        "totalpayment=totalprice-totaldiscount\n",
        "\n",
        "print(totalpayment)\n"
      ]
    },
    {
      "cell_type": "markdown",
      "metadata": {
        "id": "G-HHsg4la6mJ"
      },
      "source": [
        "# List Data Operation"
      ]
    },
    {
      "cell_type": "markdown",
      "metadata": {
        "id": "NdoSjVZ4Zbqg"
      },
      "source": [
        "5. > Follow the instructions in the code blocks\n",
        "\n",
        "\n",
        "\n"
      ]
    },
    {
      "cell_type": "code",
      "execution_count": 12,
      "metadata": {
        "id": "xsFxlZGLaQ7y"
      },
      "outputs": [],
      "source": [
        "# Create list of countries in the world (total 7 countries) (Points : 5)\n",
        "\n",
        "#Code goes here\n",
        "contries=[\"Indonesia\",\"Thailand\",\"Malysia\",\"Singapore\",\"Jepang\",\"Korea\",\"Cina\"]"
      ]
    },
    {
      "cell_type": "code",
      "execution_count": 13,
      "metadata": {
        "colab": {
          "base_uri": "https://localhost:8080/"
        },
        "id": "6Se125DabJ6R",
        "outputId": "4cca4215-307c-4b09-d2eb-d570efb47bd9"
      },
      "outputs": [
        {
          "data": {
            "text/plain": [
              "['Indonesia', 'Thailand', 'Malysia', 'Singapore']"
            ]
          },
          "execution_count": 13,
          "metadata": {},
          "output_type": "execute_result"
        }
      ],
      "source": [
        "# Get 4 countries from the first index of the list (Points : 5)\n",
        "\n",
        "#Code goes here\n",
        "contries[:4]"
      ]
    },
    {
      "cell_type": "code",
      "execution_count": 14,
      "metadata": {
        "colab": {
          "base_uri": "https://localhost:8080/"
        },
        "id": "FSU5QfExbKAh",
        "outputId": "ce573b80-5e37-47b4-ac1f-8e47762e6de8"
      },
      "outputs": [
        {
          "name": "stdout",
          "output_type": "stream",
          "text": [
            "['Indonesia', 'Thailand', 'Malysia', 'Singapore', 'Jepang', 'Korea', 'Cina', 'Vietnam']\n"
          ]
        }
      ],
      "source": [
        "# Append new country to the list (Points : 5)\n",
        "\n",
        "#Code goes here\n",
        "contries.append(\"Vietnam\")\n",
        "print(contries)"
      ]
    },
    {
      "cell_type": "code",
      "execution_count": 15,
      "metadata": {
        "colab": {
          "base_uri": "https://localhost:8080/"
        },
        "id": "DlvXbKlnbKGR",
        "outputId": "561bae78-4668-4e3b-9b27-e867941c86dd"
      },
      "outputs": [
        {
          "name": "stdout",
          "output_type": "stream",
          "text": [
            "['Indonesia', 'Thailand', 'Malysia', 'Singapore', 'Jepang', 'Korea', 'Cina']\n"
          ]
        }
      ],
      "source": [
        "# Drop one country from the list (Points : 5)\n",
        "\n",
        "#Code goes here\n",
        "contries.remove(\"Vietnam\")\n",
        "print(contries)"
      ]
    },
    {
      "cell_type": "code",
      "execution_count": 16,
      "metadata": {
        "colab": {
          "base_uri": "https://localhost:8080/",
          "height": 35
        },
        "id": "F1NJ6JCQbKJ7",
        "outputId": "1632834c-68dc-43f4-d8d6-9f73b23f225d"
      },
      "outputs": [
        {
          "data": {
            "application/vnd.google.colaboratory.intrinsic+json": {
              "type": "string"
            },
            "text/plain": [
              "'Cina'"
            ]
          },
          "execution_count": 16,
          "metadata": {},
          "output_type": "execute_result"
        }
      ],
      "source": [
        "# Get country in the last index (Points : 5)\n",
        "\n",
        "#Code goes here\n",
        "contries[6]"
      ]
    },
    {
      "cell_type": "markdown",
      "metadata": {
        "id": "Kfkq-SmIdJR6"
      },
      "source": [
        "# Dictionary Data Operation"
      ]
    },
    {
      "cell_type": "markdown",
      "metadata": {
        "id": "WyJ8CJzdeMiS"
      },
      "source": [
        "6. >  Follow the instructions below\n",
        "\n",
        "\n",
        "\n"
      ]
    },
    {
      "cell_type": "code",
      "execution_count": 17,
      "metadata": {
        "id": "fVHYIKLwdMfq"
      },
      "outputs": [],
      "source": [
        "# Given the dictionary below\n",
        "\n",
        "customer={\n",
        "    \"name\":['Dio','Eka','Wayu','Riki'],\n",
        "    \"age\":[20,19,24,39],\n",
        "    \"gender\":[1,0,0,1],\n",
        "    \"membership\":['Platinum','Gold','Silver','Silver']\n",
        "}"
      ]
    },
    {
      "cell_type": "code",
      "execution_count": 18,
      "metadata": {
        "colab": {
          "base_uri": "https://localhost:8080/"
        },
        "id": "LpRVtz4_eJK5",
        "outputId": "21004e24-25ba-486b-812d-0ad75563ad94"
      },
      "outputs": [
        {
          "data": {
            "text/plain": [
              "dict_keys(['name', 'age', 'gender', 'membership'])"
            ]
          },
          "execution_count": 18,
          "metadata": {},
          "output_type": "execute_result"
        }
      ],
      "source": [
        "# Print all keys in customer (Points : 5)\n",
        "\n",
        "#Code goes here\n",
        "customer.keys()"
      ]
    },
    {
      "cell_type": "code",
      "execution_count": 19,
      "metadata": {
        "colab": {
          "base_uri": "https://localhost:8080/"
        },
        "id": "QiEMM94FeYrz",
        "outputId": "1e3a9b01-dbb8-487e-f2c1-9bad82bf7a0f"
      },
      "outputs": [
        {
          "data": {
            "text/plain": [
              "['Dio', 'Eka', 'Wayu', 'Riki']"
            ]
          },
          "execution_count": 19,
          "metadata": {},
          "output_type": "execute_result"
        }
      ],
      "source": [
        "# Print all customer names (Points : 5)\n",
        "\n",
        "#Code goes here\n",
        "customer.get(\"name\")"
      ]
    },
    {
      "cell_type": "code",
      "execution_count": 20,
      "metadata": {
        "colab": {
          "base_uri": "https://localhost:8080/",
          "height": 35
        },
        "id": "P2SeErUGgQ-D",
        "outputId": "1fbba0bd-f210-4b71-ab44-bb9cdfe99dd0"
      },
      "outputs": [
        {
          "data": {
            "application/vnd.google.colaboratory.intrinsic+json": {
              "type": "string"
            },
            "text/plain": [
              "'Dio'"
            ]
          },
          "execution_count": 20,
          "metadata": {},
          "output_type": "execute_result"
        }
      ],
      "source": [
        "# Print the first customer name (Points : 5)\n",
        "\n",
        "#Code goes here\n",
        "customer[\"name\"][0]"
      ]
    },
    {
      "cell_type": "code",
      "execution_count": 21,
      "metadata": {
        "colab": {
          "base_uri": "https://localhost:8080/"
        },
        "id": "c3PlmHxueiPy",
        "outputId": "2aa3a3f7-6e4c-4abb-837a-5dc6b3457b45"
      },
      "outputs": [
        {
          "name": "stdout",
          "output_type": "stream",
          "text": [
            "{'name': ['Dio', 'Eka', 'Wayu', 'Riki'], 'gender': [1, 0, 0, 1], 'membership': ['Platinum', 'Gold', 'Silver', 'Silver']}\n"
          ]
        }
      ],
      "source": [
        "# Drop \"age\" key from the dictionary (Points : 5)\n",
        "\n",
        "#Code goes here\n",
        "del customer[\"age\"]\n",
        "print(customer)"
      ]
    },
    {
      "cell_type": "code",
      "execution_count": 27,
      "metadata": {
        "colab": {
          "base_uri": "https://localhost:8080/"
        },
        "id": "FgXDh9mIea9x",
        "outputId": "a648dc63-2482-459b-90e3-332b97c2ac66"
      },
      "outputs": [
        {
          "name": "stdout",
          "output_type": "stream",
          "text": [
            "{'name': ['Dio', 'Eka', 'Wayu', 'Riki'], 'gender': ['Male', 'Female', 'Female', 'Male'], 'membership': ['Platinum', 'Gold', 'Silver', 'Silver']}\n",
            "['Male', 'Female', 'Female', 'Male']\n"
          ]
        }
      ],
      "source": [
        "# Replace customer gender list value (Points : 20)\n",
        "# gender 1 => Male\n",
        "# gender 0 => Female \n",
        "\n",
        "#Code goes here\n",
        "for i in range(len(customer[\"gender\"])):\n",
        "\n",
        "  # replace gender 1 with male\n",
        "  if customer[\"gender\"][i] == 1 :\n",
        "    customer[\"gender\"][i] = \"Male\"\n",
        "\n",
        "  # replace gender 0 with female\n",
        "  if customer[\"gender\"][i] == 0 :\n",
        "    customer[\"gender\"][i] = \"Female\"\n",
        "\n",
        "print(customer)\n",
        "print(customer[\"gender\"])"
      ]
    }
  ],
  "metadata": {
    "colab": {
      "collapsed_sections": [],
      "name": "Topic_3_Assignment_Muh Athariq Fajri.ipynb",
      "provenance": []
    },
    "kernelspec": {
      "display_name": "Python 3",
      "name": "python3"
    },
    "language_info": {
      "name": "python"
    }
  },
  "nbformat": 4,
  "nbformat_minor": 0
}
